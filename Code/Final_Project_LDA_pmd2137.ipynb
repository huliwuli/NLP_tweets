{
 "cells": [
  {
   "cell_type": "code",
   "execution_count": 1,
   "id": "copyrighted-hands",
   "metadata": {},
   "outputs": [
    {
     "name": "stdout",
     "output_type": "stream",
     "text": [
      "\u001b[33mDEPRECATION: Configuring installation scheme with distutils config files is deprecated and will no longer work in the near future. If you are using a Homebrew or Linuxbrew Python, please see discussion at https://github.com/Homebrew/homebrew-core/issues/76621\u001b[0m\n",
      "Requirement already satisfied: nltk in /usr/local/lib/python3.9/site-packages (3.6.5)\n",
      "Requirement already satisfied: joblib in /usr/local/lib/python3.9/site-packages (from nltk) (1.0.1)\n",
      "Requirement already satisfied: tqdm in /usr/local/lib/python3.9/site-packages (from nltk) (4.60.0)\n",
      "Requirement already satisfied: regex>=2021.8.3 in /usr/local/lib/python3.9/site-packages (from nltk) (2021.11.10)\n",
      "Requirement already satisfied: click in /usr/local/lib/python3.9/site-packages (from nltk) (8.0.3)\n",
      "\u001b[33mWARNING: You are using pip version 21.2.4; however, version 21.3.1 is available.\n",
      "You should consider upgrading via the '/usr/local/opt/python@3.9/bin/python3.9 -m pip install --upgrade pip' command.\u001b[0m\n"
     ]
    },
    {
     "name": "stderr",
     "output_type": "stream",
     "text": [
      "[nltk_data] Downloading package punkt to /Users/pmd2137/nltk_data...\n",
      "[nltk_data]   Package punkt is already up-to-date!\n",
      "[nltk_data] Downloading package stopwords to\n",
      "[nltk_data]     /Users/pmd2137/nltk_data...\n",
      "[nltk_data]   Package stopwords is already up-to-date!\n"
     ]
    }
   ],
   "source": [
    "!pip3 install nltk\n",
    "import nltk\n",
    "nltk.download('punkt')\n",
    "nltk.download('stopwords')\n",
    "from nltk.corpus import stopwords\n",
    "import pandas as pd\n",
    "import re\n",
    "import string\n",
    "import csv"
   ]
  },
  {
   "cell_type": "code",
   "execution_count": 2,
   "id": "consecutive-portland",
   "metadata": {},
   "outputs": [
    {
     "name": "stdout",
     "output_type": "stream",
     "text": [
      "/usr/local/Cellar/jupyterlab/3.0.12/libexec/bin/python3.9\n"
     ]
    }
   ],
   "source": [
    "import sys\n",
    "print(sys.executable)"
   ]
  },
  {
   "cell_type": "code",
   "execution_count": 3,
   "id": "recreational-romance",
   "metadata": {},
   "outputs": [],
   "source": [
    "import wordcloud\n",
    "from wordcloud import WordCloud, STOPWORDS\n",
    "import matplotlib.pyplot as plt"
   ]
  },
  {
   "cell_type": "code",
   "execution_count": 4,
   "id": "smooth-immigration",
   "metadata": {},
   "outputs": [],
   "source": [
    "#read in data file\n",
    "data = pd.read_csv('whole_clean_df.csv')\n",
    "#list(data.columns)"
   ]
  },
  {
   "cell_type": "code",
   "execution_count": 99,
   "id": "younger-single",
   "metadata": {},
   "outputs": [
    {
     "data": {
      "text/plain": [
       "0        False\n",
       "1        False\n",
       "2        False\n",
       "3        False\n",
       "4        False\n",
       "         ...  \n",
       "66545     True\n",
       "66546     True\n",
       "66547     True\n",
       "66548     True\n",
       "66549     True\n",
       "Name: date, Length: 66550, dtype: bool"
      ]
     },
     "execution_count": 99,
     "metadata": {},
     "output_type": "execute_result"
    }
   ],
   "source": [
    "#data['date']\n",
    "#data['date']>'2020-6-1'\n",
    "data['date']>'2021-06-1'"
   ]
  },
  {
   "cell_type": "code",
   "execution_count": 14,
   "id": "public-innocent",
   "metadata": {},
   "outputs": [],
   "source": [
    "stop_words_1 = stopwords.words('english') + ['i', 'u','I','the','s',',','’']\n",
    "stop_words_2 = stopwords.words('english') + ['i', 'u','I','the','the','s',',','’','got','covid','vaccine','vaccines', 'covid vaccine', 'covidvaccine', 'moderna','pfizer','sinopharm','sinovac','dose','jab']"
   ]
  },
  {
   "cell_type": "code",
   "execution_count": 6,
   "id": "rapid-hygiene",
   "metadata": {},
   "outputs": [
    {
     "ename": "NameError",
     "evalue": "name 'stop_words_' is not defined",
     "output_type": "error",
     "traceback": [
      "\u001b[0;31m---------------------------------------------------------------------------\u001b[0m",
      "\u001b[0;31mNameError\u001b[0m                                 Traceback (most recent call last)",
      "\u001b[0;32m<ipython-input-6-45eb7d43cd65>\u001b[0m in \u001b[0;36m<module>\u001b[0;34m\u001b[0m\n\u001b[1;32m      3\u001b[0m \u001b[0mdata\u001b[0m\u001b[0;34m[\u001b[0m\u001b[0;34m'lemma_sw_1'\u001b[0m\u001b[0;34m]\u001b[0m \u001b[0;34m=\u001b[0m \u001b[0mdata\u001b[0m\u001b[0;34m[\u001b[0m\u001b[0;34m'lemma'\u001b[0m\u001b[0;34m]\u001b[0m\u001b[0;34m.\u001b[0m\u001b[0mapply\u001b[0m\u001b[0;34m(\u001b[0m\u001b[0mword_tokenize\u001b[0m\u001b[0;34m)\u001b[0m\u001b[0;34m\u001b[0m\u001b[0;34m\u001b[0m\u001b[0m\n\u001b[1;32m      4\u001b[0m \u001b[0;31m#apply(lambda x: ' '.join([word for word in x.split() if word not in (stop_words)]))\u001b[0m\u001b[0;34m\u001b[0m\u001b[0;34m\u001b[0m\u001b[0m\n\u001b[0;32m----> 5\u001b[0;31m \u001b[0mdata\u001b[0m\u001b[0;34m[\u001b[0m\u001b[0;34m'lemma_sw_1'\u001b[0m\u001b[0;34m]\u001b[0m \u001b[0;34m=\u001b[0m \u001b[0mdata\u001b[0m\u001b[0;34m[\u001b[0m\u001b[0;34m'lemma_sw_1'\u001b[0m\u001b[0;34m]\u001b[0m\u001b[0;34m.\u001b[0m\u001b[0mapply\u001b[0m\u001b[0;34m(\u001b[0m\u001b[0;32mlambda\u001b[0m \u001b[0mwords\u001b[0m\u001b[0;34m:\u001b[0m\u001b[0;34m' '\u001b[0m\u001b[0;34m.\u001b[0m\u001b[0mjoin\u001b[0m\u001b[0;34m(\u001b[0m\u001b[0;34m[\u001b[0m\u001b[0mword\u001b[0m \u001b[0;32mfor\u001b[0m \u001b[0mword\u001b[0m \u001b[0;32min\u001b[0m \u001b[0mwords\u001b[0m \u001b[0;32mif\u001b[0m \u001b[0mword\u001b[0m \u001b[0;32mnot\u001b[0m \u001b[0;32min\u001b[0m \u001b[0mstop_words_\u001b[0m\u001b[0;34m]\u001b[0m\u001b[0;34m)\u001b[0m\u001b[0;34m)\u001b[0m\u001b[0;34m\u001b[0m\u001b[0;34m\u001b[0m\u001b[0m\n\u001b[0m",
      "\u001b[0;32m/usr/local/Cellar/jupyterlab/3.0.12/libexec/lib/python3.9/site-packages/pandas/core/series.py\u001b[0m in \u001b[0;36mapply\u001b[0;34m(self, func, convert_dtype, args, **kwds)\u001b[0m\n\u001b[1;32m   4136\u001b[0m             \u001b[0;32melse\u001b[0m\u001b[0;34m:\u001b[0m\u001b[0;34m\u001b[0m\u001b[0;34m\u001b[0m\u001b[0m\n\u001b[1;32m   4137\u001b[0m                 \u001b[0mvalues\u001b[0m \u001b[0;34m=\u001b[0m \u001b[0mself\u001b[0m\u001b[0;34m.\u001b[0m\u001b[0mastype\u001b[0m\u001b[0;34m(\u001b[0m\u001b[0mobject\u001b[0m\u001b[0;34m)\u001b[0m\u001b[0;34m.\u001b[0m\u001b[0m_values\u001b[0m\u001b[0;34m\u001b[0m\u001b[0;34m\u001b[0m\u001b[0m\n\u001b[0;32m-> 4138\u001b[0;31m                 \u001b[0mmapped\u001b[0m \u001b[0;34m=\u001b[0m \u001b[0mlib\u001b[0m\u001b[0;34m.\u001b[0m\u001b[0mmap_infer\u001b[0m\u001b[0;34m(\u001b[0m\u001b[0mvalues\u001b[0m\u001b[0;34m,\u001b[0m \u001b[0mf\u001b[0m\u001b[0;34m,\u001b[0m \u001b[0mconvert\u001b[0m\u001b[0;34m=\u001b[0m\u001b[0mconvert_dtype\u001b[0m\u001b[0;34m)\u001b[0m\u001b[0;34m\u001b[0m\u001b[0;34m\u001b[0m\u001b[0m\n\u001b[0m\u001b[1;32m   4139\u001b[0m \u001b[0;34m\u001b[0m\u001b[0m\n\u001b[1;32m   4140\u001b[0m         \u001b[0;32mif\u001b[0m \u001b[0mlen\u001b[0m\u001b[0;34m(\u001b[0m\u001b[0mmapped\u001b[0m\u001b[0;34m)\u001b[0m \u001b[0;32mand\u001b[0m \u001b[0misinstance\u001b[0m\u001b[0;34m(\u001b[0m\u001b[0mmapped\u001b[0m\u001b[0;34m[\u001b[0m\u001b[0;36m0\u001b[0m\u001b[0;34m]\u001b[0m\u001b[0;34m,\u001b[0m \u001b[0mSeries\u001b[0m\u001b[0;34m)\u001b[0m\u001b[0;34m:\u001b[0m\u001b[0;34m\u001b[0m\u001b[0;34m\u001b[0m\u001b[0m\n",
      "\u001b[0;32mpandas/_libs/lib.pyx\u001b[0m in \u001b[0;36mpandas._libs.lib.map_infer\u001b[0;34m()\u001b[0m\n",
      "\u001b[0;32m<ipython-input-6-45eb7d43cd65>\u001b[0m in \u001b[0;36m<lambda>\u001b[0;34m(words)\u001b[0m\n\u001b[1;32m      3\u001b[0m \u001b[0mdata\u001b[0m\u001b[0;34m[\u001b[0m\u001b[0;34m'lemma_sw_1'\u001b[0m\u001b[0;34m]\u001b[0m \u001b[0;34m=\u001b[0m \u001b[0mdata\u001b[0m\u001b[0;34m[\u001b[0m\u001b[0;34m'lemma'\u001b[0m\u001b[0;34m]\u001b[0m\u001b[0;34m.\u001b[0m\u001b[0mapply\u001b[0m\u001b[0;34m(\u001b[0m\u001b[0mword_tokenize\u001b[0m\u001b[0;34m)\u001b[0m\u001b[0;34m\u001b[0m\u001b[0;34m\u001b[0m\u001b[0m\n\u001b[1;32m      4\u001b[0m \u001b[0;31m#apply(lambda x: ' '.join([word for word in x.split() if word not in (stop_words)]))\u001b[0m\u001b[0;34m\u001b[0m\u001b[0;34m\u001b[0m\u001b[0m\n\u001b[0;32m----> 5\u001b[0;31m \u001b[0mdata\u001b[0m\u001b[0;34m[\u001b[0m\u001b[0;34m'lemma_sw_1'\u001b[0m\u001b[0;34m]\u001b[0m \u001b[0;34m=\u001b[0m \u001b[0mdata\u001b[0m\u001b[0;34m[\u001b[0m\u001b[0;34m'lemma_sw_1'\u001b[0m\u001b[0;34m]\u001b[0m\u001b[0;34m.\u001b[0m\u001b[0mapply\u001b[0m\u001b[0;34m(\u001b[0m\u001b[0;32mlambda\u001b[0m \u001b[0mwords\u001b[0m\u001b[0;34m:\u001b[0m\u001b[0;34m' '\u001b[0m\u001b[0;34m.\u001b[0m\u001b[0mjoin\u001b[0m\u001b[0;34m(\u001b[0m\u001b[0;34m[\u001b[0m\u001b[0mword\u001b[0m \u001b[0;32mfor\u001b[0m \u001b[0mword\u001b[0m \u001b[0;32min\u001b[0m \u001b[0mwords\u001b[0m \u001b[0;32mif\u001b[0m \u001b[0mword\u001b[0m \u001b[0;32mnot\u001b[0m \u001b[0;32min\u001b[0m \u001b[0mstop_words_\u001b[0m\u001b[0;34m]\u001b[0m\u001b[0;34m)\u001b[0m\u001b[0;34m)\u001b[0m\u001b[0;34m\u001b[0m\u001b[0;34m\u001b[0m\u001b[0m\n\u001b[0m",
      "\u001b[0;32m<ipython-input-6-45eb7d43cd65>\u001b[0m in \u001b[0;36m<listcomp>\u001b[0;34m(.0)\u001b[0m\n\u001b[1;32m      3\u001b[0m \u001b[0mdata\u001b[0m\u001b[0;34m[\u001b[0m\u001b[0;34m'lemma_sw_1'\u001b[0m\u001b[0;34m]\u001b[0m \u001b[0;34m=\u001b[0m \u001b[0mdata\u001b[0m\u001b[0;34m[\u001b[0m\u001b[0;34m'lemma'\u001b[0m\u001b[0;34m]\u001b[0m\u001b[0;34m.\u001b[0m\u001b[0mapply\u001b[0m\u001b[0;34m(\u001b[0m\u001b[0mword_tokenize\u001b[0m\u001b[0;34m)\u001b[0m\u001b[0;34m\u001b[0m\u001b[0;34m\u001b[0m\u001b[0m\n\u001b[1;32m      4\u001b[0m \u001b[0;31m#apply(lambda x: ' '.join([word for word in x.split() if word not in (stop_words)]))\u001b[0m\u001b[0;34m\u001b[0m\u001b[0;34m\u001b[0m\u001b[0m\n\u001b[0;32m----> 5\u001b[0;31m \u001b[0mdata\u001b[0m\u001b[0;34m[\u001b[0m\u001b[0;34m'lemma_sw_1'\u001b[0m\u001b[0;34m]\u001b[0m \u001b[0;34m=\u001b[0m \u001b[0mdata\u001b[0m\u001b[0;34m[\u001b[0m\u001b[0;34m'lemma_sw_1'\u001b[0m\u001b[0;34m]\u001b[0m\u001b[0;34m.\u001b[0m\u001b[0mapply\u001b[0m\u001b[0;34m(\u001b[0m\u001b[0;32mlambda\u001b[0m \u001b[0mwords\u001b[0m\u001b[0;34m:\u001b[0m\u001b[0;34m' '\u001b[0m\u001b[0;34m.\u001b[0m\u001b[0mjoin\u001b[0m\u001b[0;34m(\u001b[0m\u001b[0;34m[\u001b[0m\u001b[0mword\u001b[0m \u001b[0;32mfor\u001b[0m \u001b[0mword\u001b[0m \u001b[0;32min\u001b[0m \u001b[0mwords\u001b[0m \u001b[0;32mif\u001b[0m \u001b[0mword\u001b[0m \u001b[0;32mnot\u001b[0m \u001b[0;32min\u001b[0m \u001b[0mstop_words_\u001b[0m\u001b[0;34m]\u001b[0m\u001b[0;34m)\u001b[0m\u001b[0;34m)\u001b[0m\u001b[0;34m\u001b[0m\u001b[0;34m\u001b[0m\u001b[0m\n\u001b[0m",
      "\u001b[0;31mNameError\u001b[0m: name 'stop_words_' is not defined"
     ]
    }
   ],
   "source": [
    "from nltk.tokenize import word_tokenize\n",
    "\n",
    "data['lemma_sw_1'] = data['lemma'].apply(word_tokenize)\n",
    "#apply(lambda x: ' '.join([word for word in x.split() if word not in (stop_words)]))\n",
    "data['lemma_sw_1'] = data['lemma_sw_1'].apply(lambda words:' '.join([word for word in words if word not in stop_words_]))"
   ]
  },
  {
   "cell_type": "code",
   "execution_count": 17,
   "id": "exclusive-spain",
   "metadata": {},
   "outputs": [],
   "source": [
    "from nltk.tokenize import word_tokenize\n",
    "\n",
    "data['lemma_sw_2'] = data['lemma'].apply(word_tokenize)\n",
    "#apply(lambda x: ' '.join([word for word in x.split() if word not in (stop_words)]))\n",
    "data['lemma_sw_2'] = data['lemma_sw_2'].apply(lambda words: ' '.join([word for word in words if word not in stop_words_2]))"
   ]
  },
  {
   "cell_type": "markdown",
   "id": "economic-vacuum",
   "metadata": {},
   "source": [
    "## EDA"
   ]
  },
  {
   "cell_type": "code",
   "execution_count": 10,
   "id": "adverse-artwork",
   "metadata": {},
   "outputs": [
    {
     "data": {
      "text/html": [
       "<div>\n",
       "<style scoped>\n",
       "    .dataframe tbody tr th:only-of-type {\n",
       "        vertical-align: middle;\n",
       "    }\n",
       "\n",
       "    .dataframe tbody tr th {\n",
       "        vertical-align: top;\n",
       "    }\n",
       "\n",
       "    .dataframe thead th {\n",
       "        text-align: right;\n",
       "    }\n",
       "</style>\n",
       "<table border=\"1\" class=\"dataframe\">\n",
       "  <thead>\n",
       "    <tr style=\"text-align: right;\">\n",
       "      <th></th>\n",
       "      <th>compound</th>\n",
       "      <th>counts</th>\n",
       "    </tr>\n",
       "  </thead>\n",
       "  <tbody>\n",
       "    <tr>\n",
       "      <th>789</th>\n",
       "      <td>0.0000</td>\n",
       "      <td>25145</td>\n",
       "    </tr>\n",
       "    <tr>\n",
       "      <th>1227</th>\n",
       "      <td>0.4767</td>\n",
       "      <td>1971</td>\n",
       "    </tr>\n",
       "    <tr>\n",
       "      <th>1181</th>\n",
       "      <td>0.4215</td>\n",
       "      <td>1740</td>\n",
       "    </tr>\n",
       "    <tr>\n",
       "      <th>1195</th>\n",
       "      <td>0.4404</td>\n",
       "      <td>1718</td>\n",
       "    </tr>\n",
       "    <tr>\n",
       "      <th>497</th>\n",
       "      <td>-0.3818</td>\n",
       "      <td>1656</td>\n",
       "    </tr>\n",
       "    <tr>\n",
       "      <th>1113</th>\n",
       "      <td>0.3612</td>\n",
       "      <td>1393</td>\n",
       "    </tr>\n",
       "    <tr>\n",
       "      <th>1159</th>\n",
       "      <td>0.4019</td>\n",
       "      <td>1074</td>\n",
       "    </tr>\n",
       "    <tr>\n",
       "      <th>1075</th>\n",
       "      <td>0.3182</td>\n",
       "      <td>887</td>\n",
       "    </tr>\n",
       "    <tr>\n",
       "      <th>1365</th>\n",
       "      <td>0.5859</td>\n",
       "      <td>840</td>\n",
       "    </tr>\n",
       "    <tr>\n",
       "      <th>566</th>\n",
       "      <td>-0.2960</td>\n",
       "      <td>757</td>\n",
       "    </tr>\n",
       "  </tbody>\n",
       "</table>\n",
       "</div>"
      ],
      "text/plain": [
       "      compound  counts\n",
       "789     0.0000   25145\n",
       "1227    0.4767    1971\n",
       "1181    0.4215    1740\n",
       "1195    0.4404    1718\n",
       "497    -0.3818    1656\n",
       "1113    0.3612    1393\n",
       "1159    0.4019    1074\n",
       "1075    0.3182     887\n",
       "1365    0.5859     840\n",
       "566    -0.2960     757"
      ]
     },
     "execution_count": 10,
     "metadata": {},
     "output_type": "execute_result"
    }
   ],
   "source": [
    "data.groupby(['compound']).size().reset_index(name='counts')\\\n",
    "  .sort_values('counts', ascending=False).head(10)"
   ]
  },
  {
   "cell_type": "code",
   "execution_count": 4,
   "id": "super-village",
   "metadata": {},
   "outputs": [
    {
     "data": {
      "text/html": [
       "<div>\n",
       "<style scoped>\n",
       "    .dataframe tbody tr th:only-of-type {\n",
       "        vertical-align: middle;\n",
       "    }\n",
       "\n",
       "    .dataframe tbody tr th {\n",
       "        vertical-align: top;\n",
       "    }\n",
       "\n",
       "    .dataframe thead th {\n",
       "        text-align: right;\n",
       "    }\n",
       "</style>\n",
       "<table border=\"1\" class=\"dataframe\">\n",
       "  <thead>\n",
       "    <tr style=\"text-align: right;\">\n",
       "      <th></th>\n",
       "      <th>hashtags</th>\n",
       "      <th>counts</th>\n",
       "    </tr>\n",
       "  </thead>\n",
       "  <tbody>\n",
       "    <tr>\n",
       "      <th>10490</th>\n",
       "      <td>['Moderna']</td>\n",
       "      <td>4026</td>\n",
       "    </tr>\n",
       "    <tr>\n",
       "      <th>5022</th>\n",
       "      <td>['Covaxin']</td>\n",
       "      <td>3051</td>\n",
       "    </tr>\n",
       "    <tr>\n",
       "      <th>14629</th>\n",
       "      <td>['SputnikV']</td>\n",
       "      <td>1608</td>\n",
       "    </tr>\n",
       "    <tr>\n",
       "      <th>1877</th>\n",
       "      <td>['COVAXIN']</td>\n",
       "      <td>1504</td>\n",
       "    </tr>\n",
       "    <tr>\n",
       "      <th>13604</th>\n",
       "      <td>['Sinopharm']</td>\n",
       "      <td>1123</td>\n",
       "    </tr>\n",
       "    <tr>\n",
       "      <th>2875</th>\n",
       "      <td>['COVID19']</td>\n",
       "      <td>1045</td>\n",
       "    </tr>\n",
       "    <tr>\n",
       "      <th>18770</th>\n",
       "      <td>['moderna']</td>\n",
       "      <td>763</td>\n",
       "    </tr>\n",
       "    <tr>\n",
       "      <th>13972</th>\n",
       "      <td>['Sinovac']</td>\n",
       "      <td>705</td>\n",
       "    </tr>\n",
       "    <tr>\n",
       "      <th>17082</th>\n",
       "      <td>['covaxin']</td>\n",
       "      <td>550</td>\n",
       "    </tr>\n",
       "    <tr>\n",
       "      <th>11828</th>\n",
       "      <td>['Pfizer', 'Moderna']</td>\n",
       "      <td>405</td>\n",
       "    </tr>\n",
       "  </tbody>\n",
       "</table>\n",
       "</div>"
      ],
      "text/plain": [
       "                    hashtags  counts\n",
       "10490            ['Moderna']    4026\n",
       "5022             ['Covaxin']    3051\n",
       "14629           ['SputnikV']    1608\n",
       "1877             ['COVAXIN']    1504\n",
       "13604          ['Sinopharm']    1123\n",
       "2875             ['COVID19']    1045\n",
       "18770            ['moderna']     763\n",
       "13972            ['Sinovac']     705\n",
       "17082            ['covaxin']     550\n",
       "11828  ['Pfizer', 'Moderna']     405"
      ]
     },
     "execution_count": 4,
     "metadata": {},
     "output_type": "execute_result"
    }
   ],
   "source": [
    "data.groupby(['hashtags']).size().reset_index(name='counts')\\\n",
    "  .sort_values('counts', ascending=False).head(10)"
   ]
  },
  {
   "cell_type": "code",
   "execution_count": 5,
   "id": "delayed-criticism",
   "metadata": {},
   "outputs": [
    {
     "data": {
      "text/html": [
       "<div>\n",
       "<style scoped>\n",
       "    .dataframe tbody tr th:only-of-type {\n",
       "        vertical-align: middle;\n",
       "    }\n",
       "\n",
       "    .dataframe tbody tr th {\n",
       "        vertical-align: top;\n",
       "    }\n",
       "\n",
       "    .dataframe thead th {\n",
       "        text-align: right;\n",
       "    }\n",
       "</style>\n",
       "<table border=\"1\" class=\"dataframe\">\n",
       "  <thead>\n",
       "    <tr style=\"text-align: right;\">\n",
       "      <th></th>\n",
       "      <th>Country</th>\n",
       "      <th>counts</th>\n",
       "    </tr>\n",
       "  </thead>\n",
       "  <tbody>\n",
       "    <tr>\n",
       "      <th>155</th>\n",
       "      <td>USA</td>\n",
       "      <td>22673</td>\n",
       "    </tr>\n",
       "    <tr>\n",
       "      <th>68</th>\n",
       "      <td>India</td>\n",
       "      <td>21575</td>\n",
       "    </tr>\n",
       "    <tr>\n",
       "      <th>28</th>\n",
       "      <td>Canada</td>\n",
       "      <td>4478</td>\n",
       "    </tr>\n",
       "    <tr>\n",
       "      <th>113</th>\n",
       "      <td>Pakistan</td>\n",
       "      <td>1512</td>\n",
       "    </tr>\n",
       "    <tr>\n",
       "      <th>142</th>\n",
       "      <td>Sri Lanka</td>\n",
       "      <td>1395</td>\n",
       "    </tr>\n",
       "    <tr>\n",
       "      <th>32</th>\n",
       "      <td>China</td>\n",
       "      <td>1268</td>\n",
       "    </tr>\n",
       "    <tr>\n",
       "      <th>159</th>\n",
       "      <td>United Kingdom</td>\n",
       "      <td>905</td>\n",
       "    </tr>\n",
       "    <tr>\n",
       "      <th>91</th>\n",
       "      <td>Malaysia</td>\n",
       "      <td>888</td>\n",
       "    </tr>\n",
       "    <tr>\n",
       "      <th>117</th>\n",
       "      <td>Philippines</td>\n",
       "      <td>820</td>\n",
       "    </tr>\n",
       "    <tr>\n",
       "      <th>8</th>\n",
       "      <td>Australia</td>\n",
       "      <td>707</td>\n",
       "    </tr>\n",
       "  </tbody>\n",
       "</table>\n",
       "</div>"
      ],
      "text/plain": [
       "            Country  counts\n",
       "155             USA   22673\n",
       "68            India   21575\n",
       "28           Canada    4478\n",
       "113        Pakistan    1512\n",
       "142       Sri Lanka    1395\n",
       "32            China    1268\n",
       "159  United Kingdom     905\n",
       "91         Malaysia     888\n",
       "117     Philippines     820\n",
       "8         Australia     707"
      ]
     },
     "execution_count": 5,
     "metadata": {},
     "output_type": "execute_result"
    }
   ],
   "source": [
    "data.groupby(['Country']).size().reset_index(name='counts')\\\n",
    "  .sort_values('counts', ascending=False).head(10)"
   ]
  },
  {
   "cell_type": "code",
   "execution_count": 12,
   "id": "impaired-running",
   "metadata": {},
   "outputs": [
    {
     "data": {
      "text/html": [
       "<div>\n",
       "<style scoped>\n",
       "    .dataframe tbody tr th:only-of-type {\n",
       "        vertical-align: middle;\n",
       "    }\n",
       "\n",
       "    .dataframe tbody tr th {\n",
       "        vertical-align: top;\n",
       "    }\n",
       "\n",
       "    .dataframe thead th {\n",
       "        text-align: right;\n",
       "    }\n",
       "</style>\n",
       "<table border=\"1\" class=\"dataframe\">\n",
       "  <thead>\n",
       "    <tr style=\"text-align: right;\">\n",
       "      <th></th>\n",
       "      <th>Country</th>\n",
       "      <th>counts</th>\n",
       "    </tr>\n",
       "  </thead>\n",
       "  <tbody>\n",
       "    <tr>\n",
       "      <th>155</th>\n",
       "      <td>USA</td>\n",
       "      <td>22673</td>\n",
       "    </tr>\n",
       "    <tr>\n",
       "      <th>68</th>\n",
       "      <td>India</td>\n",
       "      <td>21575</td>\n",
       "    </tr>\n",
       "    <tr>\n",
       "      <th>28</th>\n",
       "      <td>Canada</td>\n",
       "      <td>4478</td>\n",
       "    </tr>\n",
       "    <tr>\n",
       "      <th>113</th>\n",
       "      <td>Pakistan</td>\n",
       "      <td>1512</td>\n",
       "    </tr>\n",
       "    <tr>\n",
       "      <th>142</th>\n",
       "      <td>Sri Lanka</td>\n",
       "      <td>1395</td>\n",
       "    </tr>\n",
       "    <tr>\n",
       "      <th>32</th>\n",
       "      <td>China</td>\n",
       "      <td>1268</td>\n",
       "    </tr>\n",
       "    <tr>\n",
       "      <th>159</th>\n",
       "      <td>United Kingdom</td>\n",
       "      <td>905</td>\n",
       "    </tr>\n",
       "    <tr>\n",
       "      <th>91</th>\n",
       "      <td>Malaysia</td>\n",
       "      <td>888</td>\n",
       "    </tr>\n",
       "    <tr>\n",
       "      <th>117</th>\n",
       "      <td>Philippines</td>\n",
       "      <td>820</td>\n",
       "    </tr>\n",
       "    <tr>\n",
       "      <th>8</th>\n",
       "      <td>Australia</td>\n",
       "      <td>707</td>\n",
       "    </tr>\n",
       "  </tbody>\n",
       "</table>\n",
       "</div>"
      ],
      "text/plain": [
       "            Country  counts\n",
       "155             USA   22673\n",
       "68            India   21575\n",
       "28           Canada    4478\n",
       "113        Pakistan    1512\n",
       "142       Sri Lanka    1395\n",
       "32            China    1268\n",
       "159  United Kingdom     905\n",
       "91         Malaysia     888\n",
       "117     Philippines     820\n",
       "8         Australia     707"
      ]
     },
     "execution_count": 12,
     "metadata": {},
     "output_type": "execute_result"
    }
   ],
   "source": [
    "data.groupby(['Country']).size().reset_index(name='counts')\\\n",
    "  .sort_values('counts', ascending=False).head(10)"
   ]
  },
  {
   "cell_type": "markdown",
   "id": "progressive-running",
   "metadata": {},
   "source": [
    "## Topic Modelling (LDA)"
   ]
  },
  {
   "cell_type": "code",
   "execution_count": 18,
   "id": "formal-millennium",
   "metadata": {},
   "outputs": [],
   "source": [
    "def print_top_words(model, feature_names, n_top_words):\n",
    "    \n",
    "    print(\"\\nTopics in LDA model:\")\n",
    "    \n",
    "    for topic_idx, topic in enumerate(model.components_):\n",
    "        print(\"Topic #%d:\" % topic_idx)\n",
    "        print(\" \".join([feature_names[i]\n",
    "                        for i in topic.argsort()[:-n_top_words - 1:-1]]))                        \n",
    "    print()"
   ]
  },
  {
   "cell_type": "code",
   "execution_count": 19,
   "id": "separated-alignment",
   "metadata": {},
   "outputs": [],
   "source": [
    "def runLDA(df_col_mood, n_topics):\n",
    "    \n",
    "    #import necessary packages\n",
    "    from sklearn.feature_extraction.text import CountVectorizer\n",
    "    from sklearn.decomposition import LatentDirichletAllocation\n",
    "    \n",
    "    # the vectorizer object will be used to transform text to vector form\n",
    "    vectorizer = CountVectorizer(max_df=0.9, min_df=100, token_pattern='\\w+|\\$[\\d\\.]+|\\S+')\n",
    "\n",
    "    # apply transformation\n",
    "    #tf = vectorizer.fit_transform(data['text_no_sw']) #.toarray()\n",
    "    tf = vectorizer.fit_transform(df_col_mood) #.toarray()\n",
    "\n",
    "    # tf_feature_names tells us what word each column in the matric represents\n",
    "    tf_feature_names = vectorizer.get_feature_names()\n",
    "    tf.shape # --> (200000, 2296)\n",
    "    \n",
    "    #select number of topics and instantiate model\n",
    "    number_of_topics = n_topics\n",
    "    model = LatentDirichletAllocation(n_components=number_of_topics, random_state=315) # random state for reproducibility\n",
    "\n",
    "    # Fit data to model\n",
    "    model.fit(tf)\n",
    "    \n",
    "    #print feature names\n",
    "    print_top_words(model, tf_feature_names, 20)\n",
    "    \n",
    "    # define vocabulary to get words names \n",
    "    vocab = vectorizer.get_feature_names()\n",
    "\n",
    "    # dictionary to store words for each topic and number of words per topic to retrive \n",
    "    words = {}\n",
    "    n_top_words = 10\n",
    "    \n",
    "    import numpy as np\n",
    "    \n",
    "    for topic, component in enumerate(model.components_):\n",
    "\n",
    "        # need [::-1] to sort the array in descending order\n",
    "        indices = np.argsort(component)[::-1][:n_top_words]\n",
    "\n",
    "        # store the words most relevant to the topic\n",
    "        words[topic] = [vocab[i] for i in indices]\n",
    "    \n",
    "    return model,tf_feature_names"
   ]
  },
  {
   "cell_type": "code",
   "execution_count": 20,
   "id": "taken-penetration",
   "metadata": {},
   "outputs": [],
   "source": [
    "data_positive = data[data['pos']> 0.05]\n",
    "data_neg = data[data['compound']< -0.05]"
   ]
  },
  {
   "cell_type": "code",
   "execution_count": 21,
   "id": "adopted-mountain",
   "metadata": {},
   "outputs": [],
   "source": [
    "data_neutral = data[data['compound']> -0.05]\n",
    "data_neutral = data_neutral[data_neutral['compound']< 0.05]"
   ]
  },
  {
   "cell_type": "code",
   "execution_count": 22,
   "id": "perfect-longer",
   "metadata": {},
   "outputs": [
    {
     "name": "stdout",
     "output_type": "stream",
     "text": [
      "\n",
      "Topics in LDA model:\n",
      "Topic #0:\n",
      "'vaccine 'the 'covid 'sinopharm 'use 'emergency 'health 'approved 'sinovac 'man 'sputnikv 'china 'good 'day 'approval 'dos 'vaccinated 'an 'receiving 'india\n",
      "Topic #1:\n",
      "'moderna 'got 'dose 'shot 'vaccine 'first 'today 'second 'vaccinated 'nd 'covid 'thank 'booster 'day 'covidvaccine 'm 'get 'fully 'feel 'done\n",
      "Topic #2:\n",
      "'vaccine 'moderna 'covid 'pfizer 'people 'get … 's 'it 'we 'like 'please 'sputnikv 'safe 'mrna 't 'one 'want 'take 'vaccinated\n",
      "Topic #3:\n",
      "'age 'dose 'slot 'covaxin 'date 'all '₹ 'pincode 'fee v 'miracle 'sputnik 'dr 'sep 'hospital 'united 'hea… 'aug 'me… h\n",
      "Topic #4:\n",
      "'covaxin 'vaccine 'india 'approval 'who 'covid 'effective 'news 'study 'covishield 'bharat 'biotech 's 'variant 'trial 'get '… 'indian 'data 'approved\n",
      "\n"
     ]
    }
   ],
   "source": [
    "lda_model_positive = runLDA(data_positive['lemma_sw_2'], 5)"
   ]
  },
  {
   "cell_type": "code",
   "execution_count": 26,
   "id": "instrumental-harmony",
   "metadata": {},
   "outputs": [
    {
     "name": "stdout",
     "output_type": "stream",
     "text": [
      "Topic#  1\n",
      "Topic#  2\n",
      "Topic#  3\n",
      "Topic#  4\n",
      "Topic#  5\n"
     ]
    },
    {
     "data": {
      "image/png": "[encoded data removed]",
      "text/plain": [
       "<Figure size 432x288 with 1 Axes>"
      ]
     },
     "metadata": {
      "needs_background": "light"
     },
     "output_type": "display_data"
    }
   ],
   "source": [
    "#declaring number of terms we need per topic\n",
    "terms_count = 100\n",
    "model = lda_model_positive[0]\n",
    "tf_feature_names = lda_model_positive[1]\n",
    "\n",
    "for idx,topic in enumerate(model.components_):\n",
    "    print('Topic# ',idx+1)\n",
    "    abs_topic = abs(topic)\n",
    "    topic_terms = [[tf_feature_names[i],topic[i]] for i in abs_topic.argsort()[:-terms_count-1:-1]]\n",
    "    topic_terms_sorted = [[tf_feature_names[i], topic[i]] for i in abs_topic.argsort()[:-terms_count - 1:-1]]\n",
    "    topic_words = []\n",
    "    \n",
    "    for i in range(terms_count):\n",
    "        topic_words.append(topic_terms_sorted[i][0])\n",
    "            #print(','.join( word for word in topic_words))\n",
    "            #print(\"\")\n",
    "        dict_word_frequency = {}\n",
    "\n",
    "    for i in range(terms_count):\n",
    "        dict_word_frequency[topic_terms_sorted[i][0]] = topic_terms_sorted[i][1]\n",
    "        wcloud = WordCloud(background_color=\"white\",mask=None, max_words=100,\\\n",
    "        max_font_size=60,min_font_size=10,prefer_horizontal=0.9,\n",
    "        contour_width=3,contour_color='black')\n",
    "        wcloud.generate_from_frequencies(dict_word_frequency)\n",
    "        plt.imshow(wcloud, interpolation='bilinear')\n",
    "        plt.axis(\"off\")\n",
    "        plt.savefig(\"positive_Topic#\"+str(idx+1), format=\"png\")\n"
   ]
  },
  {
   "cell_type": "code",
   "execution_count": 28,
   "id": "later-discount",
   "metadata": {},
   "outputs": [
    {
     "name": "stdout",
     "output_type": "stream",
     "text": [
      "\n",
      "Topics in LDA model:\n",
      "Topic #0:\n",
      "'man 'vaccinated 'sinopharm 'the 'health 'day 'receiving 'vaccine 'died 'good 'yearold 'an 'had… 'fully 'in 'news 'the… 'get 'two 'jab\n",
      "Topic #1:\n",
      "'canada 'case 'ontario 'toronto 'embarrassing 'new 'forced 'covid 'reporting 'trudeau 'ford 'doug 'alone 'stay 'who 'eating 'home 'vaccine 'politicizing 'lockdown\n",
      "Topic #2:\n",
      "'russia 'everything 'open 'business 'usual 'embarrassing 'reporting 'ontario 'case 'sputnikv 'vaccination 'moscow 'of… 'people 'we … 'need 'govt 'adverse 'also\n",
      "Topic #3:\n",
      "'vaccine 'covaxin 'covid 'use 'emergency 'the 'india 's 'sinovac 'who … 'get 'sputnikv 'people 'country 'china '… 'covishield 'it 'fda\n",
      "Topic #4:\n",
      "'moderna 'vaccine 'shot 'dose 'got 'pfizer 'covid 'arm 'first 'second 'sore 'nd 'day 'effect 'side 'get 'no … 'today 'hour\n",
      "\n"
     ]
    }
   ],
   "source": [
    "lda_model_neg = runLDA(data_neg['lemma_sw_2'], 5)"
   ]
  },
  {
   "cell_type": "code",
   "execution_count": 29,
   "id": "imposed-hospital",
   "metadata": {},
   "outputs": [
    {
     "name": "stdout",
     "output_type": "stream",
     "text": [
      "Topic#  1\n",
      "Topic#  2\n",
      "Topic#  3\n",
      "Topic#  4\n",
      "Topic#  5\n"
     ]
    },
    {
     "data": {
      "image/png": "[encoded data removed]",
      "text/plain": [
       "<Figure size 432x288 with 1 Axes>"
      ]
     },
     "metadata": {
      "needs_background": "light"
     },
     "output_type": "display_data"
    }
   ],
   "source": [
    "#declaring number of terms we need per topic\n",
    "terms_count = 100\n",
    "model = lda_model_neg[0]\n",
    "tf_feature_names = lda_model_neg[1]\n",
    "\n",
    "for idx,topic in enumerate(model.components_):\n",
    "    print('Topic# ',idx+1)\n",
    "    abs_topic = abs(topic)\n",
    "    topic_terms = [[tf_feature_names[i],topic[i]] for i in abs_topic.argsort()[:-terms_count-1:-1]]\n",
    "    topic_terms_sorted = [[tf_feature_names[i], topic[i]] for i in abs_topic.argsort()[:-terms_count - 1:-1]]\n",
    "    topic_words = []\n",
    "    \n",
    "    for i in range(terms_count):\n",
    "        topic_words.append(topic_terms_sorted[i][0])\n",
    "        #print(','.join( word for word in topic_words))\n",
    "        #print(\"\")\n",
    "        dict_word_frequency = {}\n",
    "\n",
    "    for i in range(terms_count):\n",
    "        dict_word_frequency[topic_terms_sorted[i][0]] = topic_terms_sorted[i][1]\n",
    "        wcloud = WordCloud(background_color=\"white\",mask=None, max_words=100,\\\n",
    "        max_font_size=60,min_font_size=10,prefer_horizontal=0.9,\n",
    "        contour_width=3,contour_color='black')\n",
    "        wcloud.generate_from_frequencies(dict_word_frequency)\n",
    "        plt.imshow(wcloud, interpolation='bilinear')\n",
    "        plt.axis(\"off\")\n",
    "        plt.savefig(\"neg_Topic#\"+str(idx+1), format=\"png\")"
   ]
  },
  {
   "cell_type": "code",
   "execution_count": 105,
   "id": "combined-lobby",
   "metadata": {},
   "outputs": [
    {
     "ename": "ValueError",
     "evalue": "The truth value of a Series is ambiguous. Use a.empty, a.bool(), a.item(), a.any() or a.all().",
     "output_type": "error",
     "traceback": [
      "\u001b[0;31m---------------------------------------------------------------------------\u001b[0m",
      "\u001b[0;31mValueError\u001b[0m                                Traceback (most recent call last)",
      "\u001b[0;32m<ipython-input-105-6f3300d678c1>\u001b[0m in \u001b[0;36m<module>\u001b[0;34m\u001b[0m\n\u001b[1;32m      2\u001b[0m \u001b[0mpost_data\u001b[0m \u001b[0;34m=\u001b[0m \u001b[0mdata\u001b[0m\u001b[0;34m[\u001b[0m\u001b[0;34m(\u001b[0m\u001b[0mdata\u001b[0m\u001b[0;34m[\u001b[0m\u001b[0;34m'date'\u001b[0m\u001b[0;34m]\u001b[0m\u001b[0;34m>\u001b[0m\u001b[0;34m'2021-06-1'\u001b[0m\u001b[0;34m)\u001b[0m\u001b[0;34m]\u001b[0m\u001b[0;34m\u001b[0m\u001b[0;34m\u001b[0m\u001b[0m\n\u001b[1;32m      3\u001b[0m \u001b[0;34m\u001b[0m\u001b[0m\n\u001b[0;32m----> 4\u001b[0;31m \u001b[0mdata_positive_post_june_21\u001b[0m \u001b[0;34m=\u001b[0m \u001b[0mpre_data\u001b[0m\u001b[0;34m[\u001b[0m\u001b[0;34m(\u001b[0m\u001b[0mpre_data\u001b[0m\u001b[0;34m[\u001b[0m\u001b[0;34m'pos'\u001b[0m\u001b[0;34m]\u001b[0m\u001b[0;34m>\u001b[0m\u001b[0;36m0\u001b[0m\u001b[0;34m)\u001b[0m \u001b[0;32mand\u001b[0m \u001b[0;34m(\u001b[0m\u001b[0mdata\u001b[0m\u001b[0;34m[\u001b[0m\u001b[0;34m'date'\u001b[0m\u001b[0;34m]\u001b[0m\u001b[0;34m>\u001b[0m\u001b[0;34m'2021-06-1'\u001b[0m\u001b[0;34m)\u001b[0m\u001b[0;34m]\u001b[0m\u001b[0;34m\u001b[0m\u001b[0;34m\u001b[0m\u001b[0m\n\u001b[0m\u001b[1;32m      5\u001b[0m \u001b[0mdata_positive_pre_june_21\u001b[0m \u001b[0;34m=\u001b[0m \u001b[0mpost_data\u001b[0m\u001b[0;34m[\u001b[0m\u001b[0mpost_data\u001b[0m\u001b[0;34m[\u001b[0m\u001b[0;34m'pos'\u001b[0m\u001b[0;34m]\u001b[0m\u001b[0;34m>\u001b[0m\u001b[0;36m0\u001b[0m \u001b[0;32mand\u001b[0m \u001b[0mdata\u001b[0m\u001b[0;34m[\u001b[0m\u001b[0;34m'date'\u001b[0m\u001b[0;34m]\u001b[0m\u001b[0;34m<=\u001b[0m\u001b[0;34m'2021-06-1'\u001b[0m\u001b[0;34m]\u001b[0m\u001b[0;34m\u001b[0m\u001b[0;34m\u001b[0m\u001b[0m\n",
      "\u001b[0;32m/usr/local/Cellar/jupyterlab/3.0.12/libexec/lib/python3.9/site-packages/pandas/core/generic.py\u001b[0m in \u001b[0;36m__nonzero__\u001b[0;34m(self)\u001b[0m\n\u001b[1;32m   1440\u001b[0m     \u001b[0;34m@\u001b[0m\u001b[0mfinal\u001b[0m\u001b[0;34m\u001b[0m\u001b[0;34m\u001b[0m\u001b[0m\n\u001b[1;32m   1441\u001b[0m     \u001b[0;32mdef\u001b[0m \u001b[0m__nonzero__\u001b[0m\u001b[0;34m(\u001b[0m\u001b[0mself\u001b[0m\u001b[0;34m)\u001b[0m\u001b[0;34m:\u001b[0m\u001b[0;34m\u001b[0m\u001b[0;34m\u001b[0m\u001b[0m\n\u001b[0;32m-> 1442\u001b[0;31m         raise ValueError(\n\u001b[0m\u001b[1;32m   1443\u001b[0m             \u001b[0;34mf\"The truth value of a {type(self).__name__} is ambiguous. \"\u001b[0m\u001b[0;34m\u001b[0m\u001b[0;34m\u001b[0m\u001b[0m\n\u001b[1;32m   1444\u001b[0m             \u001b[0;34m\"Use a.empty, a.bool(), a.item(), a.any() or a.all().\"\u001b[0m\u001b[0;34m\u001b[0m\u001b[0;34m\u001b[0m\u001b[0m\n",
      "\u001b[0;31mValueError\u001b[0m: The truth value of a Series is ambiguous. Use a.empty, a.bool(), a.item(), a.any() or a.all()."
     ]
    }
   ],
   "source": [
    "pre_data = data[(data['date']<'2021-06-1')]\n",
    "post_data = data[(data['date']>'2021-06-1')]\n",
    "\n",
    "data_positive_post_june_21 = pre_data[(pre_data['pos']>0) and (data['date']>'2021-06-1')]\n",
    "data_positive_pre_june_21 = post_data[post_data['pos']>0 and data['date']<='2021-06-1']"
   ]
  },
  {
   "cell_type": "code",
   "execution_count": null,
   "id": "conditional-encoding",
   "metadata": {},
   "outputs": [],
   "source": []
  },
  {
   "cell_type": "code",
   "execution_count": null,
   "id": "opening-mambo",
   "metadata": {},
   "outputs": [],
   "source": [
    "data_neg_post_june_21 = data[data['neg']>0 && data['date']>'2021-06-01']\n",
    "data_neg_pre_june_21 = data[data['neg']>0 && data['date']<='2021-06-01']"
   ]
  },
  {
   "cell_type": "code",
   "execution_count": null,
   "id": "acoustic-worry",
   "metadata": {},
   "outputs": [],
   "source": [
    "# define vocabulary to get words names \n",
    "vocab = vectorizer.get_feature_names()\n",
    "\n",
    "# dictionary to store words for each topic and number of words per topic to retrive \n",
    "words = {}\n",
    "n_top_words = 10\n",
    "\n",
    "for topic, component in enumerate(model.components_):\n",
    "\n",
    "    # need [::-1] to sort the array in descending order\n",
    "    indices = np.argsort(component)[::-1][:n_top_words]\n",
    "\n",
    "    # store the words most relevant to the topic\n",
    "    words[topic] = [vocab[i] for i in indices]"
   ]
  },
  {
   "cell_type": "code",
   "execution_count": 22,
   "id": "included-mainstream",
   "metadata": {},
   "outputs": [
    {
     "name": "stdout",
     "output_type": "stream",
     "text": [
      "\n",
      "Topics in LDA model:\n",
      "Topic #0:\n",
      "'world', 'covaxin', 'expert', 'group', 'approve', ['the', 'let', 'need', 'pandemic', 'price', 'committee', 'panel', 'heal', '…'] ['we', 'government', 'fight', ['let', 's', 'country',\n",
      "Topic #1:\n",
      "'case', 'new', 'covid', 'canada', 'toronto', 'reporting', 'ontario', 'politicizing', 'vaccine', ['embarrassing', 'home', 'school', 'stop', 'lockdown', ['canada', 'business', 'family', ['while', 'politicizing…'] 'stay',\n",
      "Topic #2:\n",
      "'dose', 'covaxin', 'nd', 'available', 'st', 'th', 'pm', 'took', 'vaccine', 'minister', 'administered', 'take', 'june', 'may', ['vaccine', 'delhi', 'due', 'taken', 'modi', 'second',\n",
      "Topic #3:\n",
      "'sputnikv', 'vaccine', 'covid', 'russia', 'o…'] 'country', 'astrazeneca', 'russian', 'eu', 'sale', 'say', 'contact', 'start', 'supply', 'syrinx', ['selling', 'facemasks', 'nitrilegloves', 'produce', 'chief',\n",
      "Topic #4:\n",
      "'moderna', 'vaccine', 'pfizer', 'covid', 'booster', 'shot', 'mrna', ['moderna', 'astrazeneca', 'fda', 'say', ['pfizer', 'moderna…'] 'study', 'vaccine'] 'effective', ['the', 'u', 'johnsonandjohnson', 'johnson',\n",
      "Topic #5:\n",
      "'vaccine', 'first', 'dose', 'covid', 'pfizerbiontech', 'jab', 'today', 'done', 'received', ['got', 'covidvaccine', '💉', 'moderna', 'second', 'got', 'sinovac', ['finally', ['first', 'sinovac'] 'moderna']\n",
      "Topic #6:\n",
      "'vaccine', 'use', 'approved', 'emergency', 'v', 'sputnik', 'covid', 'india', 'sputnikv', 'dr', 'drug', 'said', 'sputnikv'] ['sputnikv', ['the', 'health', 'approves', 'russia', 'approval', 'get',\n",
      "Topic #7:\n",
      "'vaccination', 'month', 'covid', 'week', 'vaccine', 'thanks', 'center', 'free', 'last', ['my', 'clinic', 'dose', 'appointment', 'second', 'today', 'centre', 'process', '…'] 'drive', 'city',\n",
      "Topic #8:\n",
      "'vaccine', 'dos', 'sinopharm', 'sinovac', 'covid', 'million', 'china', 'chinese', ['the', 'received', 'batch', 'arrived', 'health', 'government', 'the', ['china', 'arrive', 'first', 'srilanka', ['a',\n",
      "Topic #9:\n",
      "'vaccine', 'the', 'to', 'in', 'for', 'of', 'not', 'safe', 'is', 'read', 'covid', 'life', 'people', 'must', '…'] 'without', 'with', 'a', 'story', 'sinovac',\n",
      "Topic #10:\n",
      "'covaxin', 'india', 'vaccine', 'covishield', 'news', 'production', 'covid', 'indian', 'r', ['india', 'govt', 'crore', 'made', ['good', 'virus', '…'] 'per', 'corona', 'inactivated', 'mixing',\n",
      "Topic #11:\n",
      "'’', 's', 'i', 't', 'm', 'it', ['i', 'vaccine', 'don', 'get', 'know', 'can', '‘', 've', ['it', 'moderna', 'you', 'that', 'we', 're',\n",
      "Topic #12:\n",
      "'moderna', 'i', 'shot', 'got', 'second', 'vaccine', ['i', 'dose', 'arm', 'first', 'side', 'effect', 'nd', 'today', 'day', 'feel', 'sore', ['got', 'yesterday', 'hour',\n",
      "Topic #13:\n",
      "'age', 'slot', 'date', 'dose', '₹', 'covaxin', 'fee', ['pincode', 'hospital', 'all', 'jul', 'aug', 'sep', 'miracle', 'oct', 'hea…'] 'dr', 'me…'] 'sunny', 'west',\n",
      "Topic #14:\n",
      "'vaccinated', 'get', 'fully', 'moderna', 'moderna'] 'i', 'go', 'one', 'thank', 'covid', 'vaccine', ['fully', 'getting', 'got', 'everyone', ['i', 'finally', 'covidvaccine', 'doctor', ['so',\n",
      "Topic #15:\n",
      "'who', '”', '“', 'trudeau', 'alone', 'ford', 'doug', 'eating', 'stay', 'forced', 'canada', ['who', 'ontario', 'toronto', 'today', 'check', 'home…'] 'money', ['“', ['embarrassing',\n",
      "Topic #16:\n",
      "'man', 'day', 'good', 'open', 'receiving', 'health', 'everything', 'business', 'russia', 'usual', 'ontario', 'died', 'reporting', ['an', 'case', 'yearold', 'vaccine', 'the', 'of…'] 'sinopharm',\n",
      "Topic #17:\n",
      "'vaccine', 'i', 'people', 'covaxin', 'get', 'take', 'would', 'u', 'many', 'want', 'dont', 'know', ['i', 'like', 'one', 'if', ['this', 'please', 'hope', 'need',\n",
      "Topic #18:\n",
      "'trial', 'efficacy', 'data', 'year', 'vaccine', 'child', 'covaxin', 'phase', 'show', 'covid', 'clinical', 'kid', 'result', 'aged', 'state', 'could', ['covaxin', 'old', 'study', 'research',\n",
      "Topic #19:\n",
      "'covaxin', 'approval', 'biotech', 'effective', 'who', ['covaxin', 'variant', 'covid', 'bharat', 'study', 'emergency', 'vaccine', 'use', 'delta', 'say', 'bharatbiotech', 'ocgn', 'covaxin'] 'listing', 'get',\n",
      "\n"
     ]
    }
   ],
   "source": [
    "lda_model_neutral = runLDA(data_neutral['lemma'], 20)"
   ]
  },
  {
   "cell_type": "code",
   "execution_count": 20,
   "id": "analyzed-criminal",
   "metadata": {},
   "outputs": [],
   "source": [
    "lda_model_neg = runLDA(data_neg['lemma'], 20)"
   ]
  },
  {
   "cell_type": "markdown",
   "id": "cellular-fight",
   "metadata": {},
   "source": [
    "## Splitting Based on Emotions"
   ]
  },
  {
   "cell_type": "code",
   "execution_count": 26,
   "id": "special-shepherd",
   "metadata": {},
   "outputs": [],
   "source": [
    "data_positive = data[data['Emotion'].str.contains(\"positive\")]\n",
    "data_trust = data[data['Emotion'].str.contains(\"trust\")]\n",
    "data_fear = data[data['Emotion'].str.contains(\"fear\")]\n",
    "data_negative = data[data['Emotion'].str.contains(\"negative\")]\n",
    "data_anger = data[data['Emotion'].str.contains(\"anger\")]\n",
    "data_anticipation = data[data['Emotion'].str.contains(\"anticipation\")]\n",
    "data_disgust = data[data['Emotion'].str.contains(\"disgust\")]\n",
    "data_joy = data[data['Emotion'].str.contains(\"joy\")]"
   ]
  },
  {
   "cell_type": "markdown",
   "id": "given-oriental",
   "metadata": {},
   "source": [
    "## Topics by Emotion"
   ]
  },
  {
   "cell_type": "code",
   "execution_count": 52,
   "id": "annual-tunnel",
   "metadata": {},
   "outputs": [
    {
     "name": "stdout",
     "output_type": "stream",
     "text": [
      "\n",
      "Topics in LDA model:\n",
      "Topic #0:\n",
      "'’', 's', 'it', 'vaccine', 'moderna', 'covid', 'maybe', 'matter', '…'] 'what', 'pfizerbiontech', 'announced', 'a…'] 'vaccination', ['moderna', 's…'] 'covidvaccine', 'know', 'say', 'soon',\n",
      "Topic #1:\n",
      "'country', 'f…'] 'for…'] 'using', 'become', 'working', 'others', 'america', 'vaccine', 'approve', 'start', 'vaccination', 'covid', 'one', 'a…'] 't…'] 'to…'] 'covaxin', 'vaccine…'] 'a',\n",
      "Topic #2:\n",
      "'minister', 'delhi', 'he', 'prime', 'aiims', 'covaxin', 'dose', ['sir', 'covid', 'first', 'vaccine', 'took', 'second', 'modi', ['pm', 'today', 'take', 'say', '…'] 'covidvaccine',\n",
      "Topic #3:\n",
      "'o…'] 'vaccine', 'sale', 'contact', 'sputnikv', 'syrinx', ['selling', 'facemasks', 'nitrilegloves', 'buy', 'have', 'suspended', ['while', ['indian', 'embarrassing', 'country', 'astrazeneca', 'say', 'trudeau', 'w…']\n",
      "Topic #4:\n",
      "'getting', 'moderna', 'vaccine', 'getvaccinated', 'foreign', 'japan', 'covid', ['japan', 'shot', 'second', ['im', 'tomorrow', 'dose', 'people', 'the…'] ['moderna', 'one', 'jab', 'sick', 'ready',\n",
      "Topic #5:\n",
      "'first', 'received', 'dose', 'vaccine', 'covid', 'covid'] 'sinovac'] 'second', 'jab', 'pfizerbiontech', 'sinopharm'] 'covidvaccine', 'srilanka', 'vaccination', ['done', 'got', 'lka', 'receive', 'moderna', ['today',\n",
      "Topic #6:\n",
      "'approved', 'vaccine', ['sputnikv', 'august', 'usa', 'used', 'regulator', 'possible', 'is…'] 'india…'] 'regulatory', 'medicine', 'drug', 'union', 'the', 'soon', 'easy', 'covid', 'bangladesh', 'authority',\n",
      "Topic #7:\n",
      "'thanks', 'process', 'sir', 'just', 'went', ['dear', 'tx', 'thankful', ['received', 'minute', 'dose', ['getting', 'covaxin', 'fo…'] 'second', 'moderna', 'vaccination', 'vaccine', '…'] 'easy',\n",
      "Topic #8:\n",
      "'china', 'vaccine', 'sinopharm', 'batch', 'sinovac', 'covid', 'dos', 'arrived', 'received', 'thursday', 'donated', ['the', 'philippine', 'donation', 'total', 'purchased', ['a', 'the', 'chinese', 'first',\n",
      "Topic #9:\n",
      "'the', 'in', 'of', 'company', 'is', 'and', 'vaccine', 'based', 'least', ['there', 'at', 'to', 'job', 'human', 'a', 'claim', ['here', 'ha', 'people', 'one',\n",
      "Topic #10:\n",
      "'covishield', 'news', 'covaxin', 'what', 'crore', ['good', 'vaccine', 'india', 'serum', 'september', 'happening', 'mixing', 'dos', 'institute', 'vaccination', 'covid', 'indian', '…'] 'covidvaccine', 'order',\n",
      "Topic #11:\n",
      "'’', 't', 'm', 'i', ['i', 'don', 'moderna', 'option', 'na', 'll', 'can', 've', 'didn', 'vaccine', 'get', 'gon', 'know', 'still', 'one', 'shot',\n",
      "Topic #12:\n",
      "['i', 'moderna', 'yesterday', 'got', 'feeling', 'shot', 'vaccinated'] 'second', 'first', 'told', 'hurt', 'i', 'vaccine', 'dose', 'im', 'like', 'today', ['got', 'fine', 'tired',\n",
      "Topic #13:\n",
      "'age', 'covaxin', 'dose', 'date', 'slot', ['pincode', 'fee', '₹', 'all', 'miracle', 'sep', 'aug', 'hea…'] 'me…'] 'dr', 'sunny', 'oct', 'hel…'] 'world', 'sakra',\n",
      "Topic #14:\n",
      "['so', 'so', 'far', 'finally', 'happy', 'morning', 'hit', 'got', 'moderna', 'glad', 've', 'wife', ['i', 'i', 'one', 'good', 'vaccination', 'covidvaccine', 'and', 'second',\n",
      "Topic #15:\n",
      "'trudeau', 'ford', 'doug', 'alone', 'forced', 'ontario', 'stay', 'eating', 'canada', 'toronto', ['who', 'today', 'home…'] 'who', 'our', 'mr', ['canada', 'ho…'] 'home', 'to…']\n",
      "Topic #16:\n",
      "['a', 'efficacy', 'high', 'set', 'test', 'vaccine', 'according', 'within', 'r…'] 'showed', 'three', 'covid', 'mixing', 'covidvaccine', 'rate', 'study', 'moderna', 'pfizerbiontech', 'the…'] '”',\n",
      "Topic #17:\n",
      "'question', 'doctor', ['for', 'true', 'vacc…'] 'past', 'development', 'night', 'pretty', 'came', 'access', 'normal', 'vaccine', 'one', 'if', 'covid', ['i', 'visit', 'covaxin', 'moderna',\n",
      "Topic #18:\n",
      "'got', ['just', 'going', 'moderna', 'lot', 'vaccine', 'are', 'line', 'half', 'second', 'shot', 'put', 'g', '—', 'choose', 'covid', 'people', 'in', 'one', 'dose',\n",
      "Topic #19:\n",
      "'variant', 'covid', 'approve', 'delta', 'protection', 'vaccine', 'modernas', 'protect', 'deltavariant', 'institute', 'gave', 'covaxin', 'say', 'effectively', 'lab', ['moderna', 'may', 'u', 'offer', 'neutralises',\n",
      "Topic #20:\n",
      "'take', 'took', 'hope', 'taking', 'covaxin', 'vaccine', 'student', 'people', 'n…'] 'coronavaccine', ['i', 'time', 'left', 'jab', 'it', 'one', 'indian', 'dose', 'the…'] ['govt',\n",
      "Topic #21:\n",
      "'want', 'reaction', 'vaccine', 'must', 'covax', 'reported', 'adverse', ['💉', ['get', 'whether', 'sinovac…'] 'vaccinating', 'from…'] 'people', 'know', 'moderna', 'covid', 'pfizerbiontech', 'supply', 'vaccination',\n",
      "Topic #22:\n",
      "'sinopharm', 'th', 'vaccine', 'nation', 'uae', 'covid', 'medium', 'thailand', 'trying', 'agency', ['our', 'jab', 'european', 'report', 'suspends', 'may', 'people', 'medicine', 'no', 'one',\n",
      "Topic #23:\n",
      "'anyone', 'injection', 'site', 'vaccine', 'global', 'delivery', 'support', 'else', 'effort', 'moderna', ['update', ['more', 'covid', ['did', 'symptom', 'ramp', 'supply', 'vaccination', 'know', 'pfizerbiontech',\n",
      "Topic #24:\n",
      "'vaccine', 'free', 'appointment', 'via', 'pakistan', 'covid', 'april', 'friday', '…'] ['people', 'moderna', 'saturday', 'available', 'at…'] 'starting', 'partnership', 'sunday', 'register', 'schedule', 'vaccination',\n",
      "Topic #25:\n",
      "'please', 'administered', 'help', 'johnson', 'citizen', 'march', 'eligible', ['please', 'dose', 'cowin', 'vaccine', 'covaxin', 'senior', 'astrazeneca', '…'] 'dos', ['vaccine', 'vaccination', 'yesterday', 'st',\n",
      "Topic #26:\n",
      "['covid', 'vaccine', ['vaccine', 'moderna', 'jj', 'pfizervaccine', 'pfizerbiontech', 'maker', 'ask', 'county', 'shot'] 'small', 'covid', 'needed', 'pfizer', 'covidvaccine', 'vaccination', 'covid…'] 'may', 'jab',\n",
      "Topic #27:\n",
      "'need', 'covaxin'] 'state', 'yet', 'talk', 'never', 'covaxin', 'united', 'with…'] 'vaccine', ['now', ['we', 'currently', 'link', 'bring', 'know', 'people', 'still', 'provide', ['no',\n",
      "Topic #28:\n",
      "'v', 'sputnik', 'dr', 'vaccine', 'india', 'launch', 'covid', 'problem', 'russia', ['sputnik', 'reddys', 'announces', 'reddy', 'sputnikv'] 'sputnikv', 'rdif', 'russian', 'k', ['dr', 'sputnikv…']\n",
      "Topic #29:\n",
      "'per', 'panel', 'including', 'book', 'cost', 'private', 'vaccin…'] 'vaccine', 'central', 'over', 'service', 'dose', 'covid', 'recommends', 'r', 'government', ['govt', 'expert', '₹', ['breaking',\n",
      "Topic #30:\n",
      "'canada', 'home', 'business', ['moscow', 'covid…'] 'stay', 'lockdown', 'family', ['while', 'forced', 'ontario', 'covid', 'school', 'drug', 'russia', '…'] 'case', 'reporting', 'usual', 'everything',\n",
      "Topic #31:\n",
      "'fda', 'group', 'drug', 'administration', 'age', 'american', 'covaxin', 'eua', 'food', 'completed', 'vaccine', 'contract', ['watch', 'u', 'application', 'believe', ['moderna', 'authorization', 'the', ['u',\n",
      "Topic #32:\n",
      "'hospital', 'covaxin', 'dose', 'slot', '₹', 'age', 'date', ['pincode', 'fee', 'c…'] 'city', 'jul', 'motherhood', 'e', 'aug', 'road', 'bg', 'rainbow', 'kauvery', 'a…']\n",
      "Topic #33:\n",
      "'see', 'not', 'th…'] ['why', 'can', 'look', 'without', 'vaccine', 'people', ['are', 'recommend', 'like', 'about', 'moderna', 'lakh', 'say', 'it', 'covid', 'covaxin', 'indian',\n",
      "Topic #34:\n",
      "['this', 'covidvaccine'] 'medical', 'big', 'fact', 'woman', 'pharma', 'moderna', 'vaccine', ['all', 'testing', 'biden', 'covid', 'covaxin', 'a', 'vaccination', 'indian', 'no', 'still', 'deal',\n",
      "Topic #35:\n",
      "'who', 'following', ['embarrassing', 'you…'] 'oil', 'both', 'stealing', 'eating', 'alone', 'canada', 'forced', 'america', 'f…'] 'trudeau', 'embarrassing', 'stay', 'to…'] 'home…'] 't…'] 'covid',\n",
      "Topic #36:\n",
      "'arm', 'sore', 'my', 'shot', 'moderna', 'watch', 'nothing', 'day', 'felt', 'god', 'flu', 'ive', 'nd', 'i', 'got', 'hr', ['moderna', 'like', ['i', 'still',\n",
      "Topic #37:\n",
      "'u', 'give', 'for', 'to', 'travel', 'covaxin', 'mean', 'delay', 'shortage', 'partner', 'coronavirus…'] 'nod', 'covid', 'seek', ['yes', 'covidindia', 'very', 'vaccine', '…'] 'in',\n",
      "Topic #38:\n",
      "'use', 'emergency', 'vaccine', 'covid', 'approves', 'expert', 'approved', 'committee', 'authorisation', ['breaking', 'covaxin', 'authorization', 'subject', ['who', 'organization', 'india', 'granted', 'pfizerbiontech', 'recommended', 'listing',\n",
      "Topic #39:\n",
      "'vaccinated', '💉', ['fully', 'tomorrow', 'center', 'vaccination', 'get', 'covid', 'clinic', 'moderna', ['today', 'final', ['vaccination', 'covaxin', 'people', 'district', ['covidvaccine', '…'] 'covidvaccine', 'vaccine',\n",
      "Topic #40:\n",
      "'due', 'wait', 'keep', 'research', 'continue', 'super', ['dose', 'reach', 'doesnt', 'limited', 'seen', 'west', 'vaccine', 'moderna', 'covaxin', 'covid', 'vaccination', 'people', 'time', ['moderna',\n",
      "Topic #41:\n",
      "'hour', 'moderna', 'body', 'fever', 'post', 'pain', 'ago', 'headache', 'day', 'ache', 'shot', 'second', 'i', 'chill', 'dose', ['day', 'fatigue', 'fine', 'feel', 'mild',\n",
      "Topic #42:\n",
      "'third', 'uk', 'vaccine', 'covid', 'general', ['pfizerbiontech', 'dcgi', 'administering', 'light', 'severe', 'saying', 'controller', 'france', 'drug', 'india', 'shown', 'dose', 'given', 'start', 'covid…']\n",
      "Topic #43:\n",
      "'covid', 'pandemic', ['first', 'in…'] 'vaccine', 'grateful', 'team', 'moderna', 'pfizerbiontech'] 'covidvaccine…'] 'covidvacccine', 'science', 'control', 'situation', 'round', 'pfizer'] 'covidvaccine', 'done', 'dose', 'pfizerbiontech',\n",
      "Topic #44:\n",
      "'child', 'month', 'vaccine', 'covid', ['moderna', 'aged', ['sinovac', 'six', 'young', 'w', 'moderna', 'force', 'trial', 'start', 'second', '…'] 'ill', 'say', 'testing', 'ago',\n",
      "Topic #45:\n",
      "'mrna', 'next', 'vaccine', 'moderna', 'share', 'stock', 'likely', ['moderna', 'only', 'technology', 'money', 'daily', 'covid', 'could', '…'] 'a', 'start', 'analysis', 'covidvaccine', 'ready',\n",
      "Topic #46:\n",
      "'“', '”', 'you', ['we', 'every', 'pfizer…'] ['thank', 'vaccine', 'offer', 'moderna', 'covidvaccines', 'your', 'pharmacy', 'strong', 'confirmed', 'one', 'spread', 'covid', 'people', 'the…']\n",
      "Topic #47:\n",
      "'begin', 'with', 'here', 'v…'] 'vaccine', 'effectiveness', 'covid', 'join', 'head', 'sputnikv…'] 'social', 'medium', 'know', 'to', '…'] 'moderna', 'vaccination', 'say', 'go', 'the',\n",
      "Topic #48:\n",
      "'part', 'life', 'chief', 'rate', 'choice', 'huge', 'adult', 'save', 'across', 'rest', 'though', 'if', 'pfizerbiontech…'] 'covid', 'dolly', 'success', 'vaccine', 'recommended', 'covaxin', 'moderna',\n",
      "Topic #49:\n",
      "'would', 'covaxin', 'ocgn', ['ocgn', 'vaccine', 'ocugen', 'tell', 'product', 'on…'] ['you', 'advisory', 'related', ['fda', 'co…'] 'bharatbiotech', 'biological', 'know', 'one', 'people', 'supply',\n",
      "Topic #50:\n",
      "'study', 'effective', 'show', 'variant', 'covaxin', 'covid', 'delta', 'icmr', 'disease', 'say', 'against', ['covaxin', 'plus', 'indian', 'vaccine', 'research', 'medical', 'severe', '…'] 'found',\n",
      "Topic #51:\n",
      "'pm', 'covaxin', 'taken', 'drive', 'modi', 'vaccination', 'vaccinate', 'ji', 'an…'] 'leader', 'lead', 'vaccine', ['pm', 'covishieldvaccine', 'jab', 'covid', 'indian', 'people', 'dose', 'took',\n",
      "Topic #52:\n",
      "'world', 'let', 'covaxin', 'they', '’', 'heal', 's', ['let', 'sure', 'around', 'know', 'approve', 'need', 'go', ['we', 'one', '…'] 'if', 'this', 'and',\n",
      "Topic #53:\n",
      "'already', 'information', 'source', 'major', 'article', 'video', 'concern', 'follow', 'die', 'hard', 'face', 'efficient', ['health', 'this', 'vaccine', 'covid', 'people', 'vaccination', 'say', 'if',\n",
      "Topic #54:\n",
      "'astrazeneca', 'vaccine', 'moderna…'] 'number', 'covid', 'death', 'after', 'moderna', 'johnsonandjohnson', 'pfizer', ['new', ['thanks', ['happy', 'vaccination', 'covidvaccine', 'people', 'jab', 'pfizerbiontech', ['nstnation', 'report',\n",
      "Topic #55:\n",
      "'back', 'june', ['nd', 'real', ['sinopharm', ['and', 'level', 'receives', 'person', ['mrna', 'dose', 'certificate', 'moderna', 'october', 'done', 'may', 'vaccine', '…'] 'covidvaccine', 'covaxin',\n",
      "Topic #56:\n",
      "'moderna'] 'fully', 'vaccinated', ['finally', 'im', 'moderna', 'got', 'covidvaccine', 'excited', 'vaxxed', ['im', ['i', 'covid', 'second', 'shot', ['shot', 'dose', 'vaccine', 'done', 'covaxin',\n",
      "Topic #57:\n",
      "['the', 'health', 'ministry', 'public', 'vaccine', 'monday', 'announced', 'authority', 'government', 'care', 'said', 'wednesday', 'statement', 'fund', 'direct', 'moderna', 'covid', 'worth', 'russian', 'the…']\n",
      "Topic #58:\n",
      "'dos', 'million', 'vaccine', 'eu', 'covid', 'produce', 'start', 'manufacturing', 'arrive', 'receive', 'moderna', 'purchase', 'additional', 'supply', 'consignment', 'italy', 'resident', 'lakh', 'srilanka', 'deal',\n",
      "Topic #59:\n",
      "'government', 'like', 'much', 'vaccine', ['in', 'end', 'issue', 'covaxin', 'making', 'whole', 'inactivated', 'when', 'important', 'seems', 'vaccines…'] 'deal', 'traditional', 'sign', 'called', 'be…']\n",
      "Topic #60:\n",
      "'nd', 'dose', ['my', 'great', 'moderna', 'everyone', 'vaccine', ['st', 'covaxin', 'got', 'parent', 'jab', 'yes', 'someone', 'mother', 'day', 'done', 'second', 'dose…'] 'mom',\n",
      "Topic #61:\n",
      "'we', 'even', '’', 'positive', 're', 'south', 'va…'] 'tested', 'african', 'you', 'd', 'covid', 'vaccine', 'test', 'africa', 'though', 't…'] 'people', 'they', 'a',\n",
      "Topic #62:\n",
      "'shot', 'moderna', 'booster', 'vaccine'] 'covid', ['second', 'antibody', 'done', 'vaccine', 'dose', 'ready', ['moderna', 'second', 'covidvaccine', 'pfizerbiontech', 'say', ['getting', ['fda', 'flu', 'getvaccinated']\n",
      "Topic #63:\n",
      "'govt', 'virus', 'price', 'r', 'covaxin', 'vaccine', 'population', 'name', 'till', 'hospital', 'charge', '…'] 'private', 'covishield', 'inactivated', 'vaccination', 'covid', 'indian', 'deal', 'say',\n",
      "Topic #64:\n",
      "'biotech', 'bharat', 'covaxin', 'centre', ['bharat', ['brazil', 'say', 'developed', 'bharatbiotech', 'vaccine', 'covaxin…'] 'covid', 'deal', '…'] 'icmr', 'manufactured', 'suspends', 'ramp', 'brazil', 'indian',\n",
      "Topic #65:\n",
      "'week', 'dont', 'last', 'coming', 'sputnikv'] 'thing', 'p…'] 'two', 'turn', 'vacci…'] 'moment', 'late', 'hear', ['well', 'later', 'vaccinated…'] 'one', 'second', 'time', 'know',\n",
      "Topic #66:\n",
      "'side', 'effect', 'moderna', 'no', 'little', 'cant', 'vaccine', 'arm', 'bit', 'sore', 'second', 'tired', 'getvaccinated'] 'dose', 'soreness', 'shot', 'first', 'far', 'hour', ['i',\n",
      "Topic #67:\n",
      "'all', 'h…'] 'age', 'dose', 'sputnik', 'v', '₹', 'slot', 'date', ['pincode', 'fee', 'bad', 'miracle', 'away', 'oct', 'sep', 'united', 's…'] 'vaccine…'] 'he',\n",
      "Topic #68:\n",
      "'today', ['got', 'moderna', 'vaccine', 'first', 'dose', 'second', 'shot', 'covid', 'covidvaccination', 'jab', 'covidvaccine', 'scheduled', 'singapore', 'covaxin', 'vaccination', 'pfizerbiontech', 'thank', ['had', '💉',\n",
      "Topic #69:\n",
      "'oxfordastrazeneca', 'vaccine', 'd…'] 'looking', 'rollout', 'order', 'forward', 'either', 'place', 'serious', 'modernavaccine', 'event', 'hold', 'gap', 'covid', 'vaccination', 'jab', 'adverse', 'eu', 'moderna',\n",
      "Topic #70:\n",
      "'year', 'kid', 'think', 'waiting', 'old', ['after', 'nurse', 'vaccine', 'yr', 'word', 'asked', ['i', 'moderna', ['anyone', 'people', 'still', 'mom', 'covid', 'covaxin', 'could',\n",
      "Topic #71:\n",
      "'trial', 'data', 'phase', 'covaxin', 'clinical', 'efficacy', 'result', 'interim', 'safety', 'show', ['covaxin', 'vaccine', 'review', 'published', 'analysis', 'bharatbiotech', '…'] 'covid', 'sec', 'say',\n",
      "Topic #72:\n",
      "'pfizer', 'moderna', 'vaccine', 'covid', ['pfizer', 'risk', 'cdc', 'heart', ['one', ['u', 'inflammation', 'single', 'higher', 'rare', 'people', 'say', 'one', 'dose', 'jab', 'young',\n",
      "Topic #73:\n",
      "'st', 'dose', '✅', 'blood', 'relief', 'ever', 'earlier', 'signed', 'agreement', 'clot', 'fake', 'vaccine', 'cause', 'jab', 'covaxin', 'done', 'moderna', 'contract', 'no', '…']\n",
      "Topic #74:\n",
      "'full', 'sri', 'lanka', 'story', 'step', 'vaccine', 'read', 'asking', 'sinopharm', 'husband', 'covid', 'today', 'one', 'arrived', '…'] 'moderna', 'pfizerbiontech', 'stock', 'another', 'vaccination',\n",
      "Topic #75:\n",
      "'case', 'new', 'covid', 'reporting', 'toronto', 'canada', 'ontario', ['embarrassing', 'vaccine', 'politicizing', 'politicizing…'] 'ford', ['ontario', 'trudeau', 'fo…'] 'doug', 't…'] 'vaccine…'] 'order', 'embarrassing',\n",
      "Topic #76:\n",
      "'i', 'got', 'moderna', 'feel', ['i', 'really', 'vaccine', 'like', 'get', 'know', 'second', 'sick', 'always', 'one', 'but', 'm…'] 'guess', 'shot', 'dose', ['today',\n",
      "Topic #77:\n",
      "'get', ['india', 'vaccine', ['if', 'rd', 'go', ['when', 'covaxin', 'enough', 'check', 'covid', 'local', 'one', 'pay', 'or', 'vaccination', 'dose', 'if', 'soon', '…']\n",
      "Topic #78:\n",
      "'stop', 'vax', 'school', ['canada', 'lockdown', 'vaccine', 'love', 'closed', ['can', 'business', 'politicizing', 'no…'] 'manufacture', 'ruined', 'ontario', 'toronto', 'stay', 'home', 's…'] 'the',\n",
      "Topic #79:\n",
      "'le', 'find', 'covaxin', 'reason', 'double', 'sarscov', 'live', 'thats', 'via'] 'strain', 'multiple', 'approving', 'several', 'neutralises', 'point', 'wave', 'mutant', ['but', 'effectively', 'variant',\n",
      "Topic #80:\n",
      "'update', 'read', 'now', 'official', 'more', 'fight', 'vaccine', 'covid', 'from', 'will', 'be', 'india'] 'inoculation', 'allowed', 'visit', 'program', 'more…'] 'vaccination', 'low', '…']\n",
      "Topic #81:\n",
      "'plan', 'b', 'early', 'didnt', 'market', 'recipient', 'request', ['vaccinated', 'delayed', 'n', 'l…'] 'chance', 'instead', 'covaxin', 'vaccine', 'may', 'moderna', ['moderna', 'covid', 'no',\n",
      "Topic #82:\n",
      "'many', 'i…'] ['how', 'vaccine', 'infection', 'giving', 'despite', 'covid', 'offering', 'change', 'people', 'israel', 'preventing', 'africa', 'distribution', ['another', 'moderna', 'covaxin', 'time', 'pfizerbiontech',\n",
      "Topic #83:\n",
      "'said', 'covaxin', 'why', 'on', 'bharatbiotech', 'brazil', 'vaccine', 'decision', 'fauci', 'covid', 'latest', 'do', ['dr', 'guy', ['do', ['no', 'data', 'boost', 'show', ['bharatbiotech',\n",
      "Topic #84:\n",
      "'slot', 'date', 'covaxin', 'dose', '₹', 'fee', ['pincode', 'age', 'hospital', 'jul', 'aug', 'c', 'apollo', 'sep', 'suguna', 'west', 'united', 's', 'bb…'] 'medical',\n",
      "Topic #85:\n",
      "'sputnikv', 'vaccine', 'available', 'russia', 'russian', 'how', 'covid', 'call', 'hyderabad', 'putin', 'say', 'vaccine…'] 't…'] 'still', 'the', 'may', 'jab', '…'] 'a…'] 'one',\n",
      "Topic #86:\n",
      "'come', 'better', 'best', 'covaxin…'] 'and…'] ['what', 'able', 'vaccine', 'immunity', 'covaxin', 'it…'] 'ceo', 'thought', ['not', 'wont', 'something', 'campaign', 'covid', 'vaccination', 'produced',\n",
      "Topic #87:\n",
      "'approval', 'covaxin', 'who', 'emergency', 'use', 'listing', 'get', 'eul', 'granted', 'meet', 'behind', ['who', 'grant', 'meeting', 'consider', 'indian', '…'] 'advisory', 'soon', 'likely',\n",
      "Topic #88:\n",
      "'day', 'good', 'man', 'receiving', 'died', 'vaccine', ['an', 'yearold', 'the', 'health', 'sinopharm', 'vaccinated', 'had…'] 'moderna', 'covaxin', 'covid', 'pfizerbiontech', 'a', 'hr', 'ho…']\n",
      "Topic #89:\n",
      "'also', '‘', 'right', 'there', 'that', 'b…'] '’', 'patient', 'allow', 'move', 'some', 'vaccine', 'people', 'say', 'covaxin', 'covid', 'moderna', 'vaccination', 'know', 'it',\n",
      "Topic #90:\n",
      "'sinovac', 'vaccine', 'chinese', 'covid', 'developed', 'president', 'tuesday', 'july', 'pharmaceutical', 'coronavac', ['on', 'company', 'firm', ['chinese', 'second', 'jab', 'sinopharm', 'people', '…'] 'receive',\n",
      "Topic #91:\n",
      "'thank', 'well', 'given', 'scientist', 'done', 'family', 'another', 'worker', 'friend', 'healthcare', 'vaccine', 'community', 'vac…'] 'staff', 'member', 'fullyvaccinated', 'kind', 'covid', 'do…'] 'pfizerbiontech',\n",
      "Topic #92:\n",
      "'coronavirus', 'vaccine', 'corona', 'national', ['russia', 'trust', 'proud', 'covid', 'permission', ['which', 'covaxin', 'which', 'online', ['congratulation', 'a', 'vaccine…'] 'indian', 'virus', 'granted', 'vaccinate',\n",
      "Topic #93:\n",
      "'safe', 'vaccine', 'effective', 'two', 'covid', 'found', 'say', 'among', 'highly', 'international', 'complete', 'special', 'moderna', ['two', 'pfizerbiontech', ['moderna', 'people', 'preventing', 'shown', 'jab',\n",
      "Topic #94:\n",
      "'time', ['it', 'since', 'long', ['“', 'top', 'almost', ['great', 'e…'] 'moderna', 'day', 'still', 'but', 'it', 'a', 'this', 'covaxin', 'vaccine', 'covid', '”',\n",
      "Topic #95:\n",
      "'open', 'everything', 'of…'] 'usual', 'russia', 'reporting', 'ontario', 'business', 'case', 'moscow', ['embarrassing', 'covid', '…'] ['canada', 'embarrassing', 'hear', 'he', 'healthcare', 'health', 'heart',\n",
      "Topic #96:\n",
      "'vaccine', 'expected', 'list', 'manufacturer', 'covid', 'billion', 'biontech', 'shipment', 'different', 'inc', 'moderna', 'add', 'older', 'warning', 'adolescent', ['moderna', 'pfizerbiontech', 't…'] '…'] ['fda',\n",
      "Topic #97:\n",
      "'india', 'vaccine', 'made', 'covaxin', 'way', 'covid', ['is', 'indigenous', 'import', ['with', 'cipla', 'get', '…'] 'indian', 'moderna', 'nod', 'medicine', 'dcgi', 'covidvaccine', ['moderna',\n",
      "Topic #98:\n",
      "'production', ['china', 'covid', 'vaccine', 'increase', 'launched', '–', 'by…'] 'europe', 'capacity', 'vaccination…'] 'facility', 'sputnikv', 'start', 'officially', 'politicizing', 'covaxin', ['canada', 'the…'] 'covidvaccine',\n",
      "Topic #99:\n",
      "['covaxin', 'make', 'work', 'immune', 'mask', 'response', 'system', 'might', 'tweet', 'wear', 'antibody', ['to', 'experience', 'still', 'sarscov', 'covaxin', 'may', 'people', 'covidvaccine', 't…']\n",
      "\n"
     ]
    }
   ],
   "source": [
    "#all\n",
    "lda_model_all = runLDA(data['lemma'], 100)"
   ]
  },
  {
   "cell_type": "code",
   "execution_count": 50,
   "id": "expensive-appearance",
   "metadata": {},
   "outputs": [
    {
     "name": "stdout",
     "output_type": "stream",
     "text": [
      "\n",
      "Topics in LDA model:\n",
      "Topic #0:\n",
      "'moderna', 'dose', 'covid', 'jab', 'nd', 'pfizer', 'vaccine', 'day', 'second', 'get', 'st', 'like', 'first', ['got', 'vaccinated', 'moderna'] 'got', ['i', 'i', 'covidvaccine',\n",
      "Topic #1:\n",
      "'sore', 'arm', 'shot', 'moderna', 'side', 'i', 'effect', 'got', 'day', 'first', ['i', 'second', 'nd', 'vaccine', ['got', 'moderna'] 'st', 'covidvaccine', 'today', 'like',\n",
      "Topic #2:\n",
      "'covaxin', 'jab', 'vaccine', 'covid', 'vaccination', 'covidvaccine', 'st', 'first', 'get', 'got', ['got', ['i', 'today', 'day', 'nd', 'second', 'done', 'sinovac', 'vaccinated', 'dose',\n",
      "Topic #3:\n",
      "'i', '’', 's', ['i', 'like', 'got', 'get', 'moderna'] 'moderna', 'second', 'jab', 'vaccinated', 'day', 'first', 'dose', 'vaccine', 'pfizer', 'covid', 'side', 'st',\n",
      "Topic #4:\n",
      "'jab', 'first', 'today', ['got', 'vaccinated', 'sinovac', 'done', 'second', 'get', 'got', 'moderna'] 'moderna', 'vaccine', 'like', ['i', 'day', 'covidvaccine', 'st', 'nd', 'covid',\n",
      "\n"
     ]
    }
   ],
   "source": [
    "#data_positive\n",
    "lda_model_anger = runLDA(data_positive['lemma'], 5)"
   ]
  },
  {
   "cell_type": "code",
   "execution_count": 53,
   "id": "proper-middle",
   "metadata": {},
   "outputs": [
    {
     "name": "stdout",
     "output_type": "stream",
     "text": [
      "\n",
      "Topics in LDA model:\n",
      "Topic #0:\n",
      "'vaccine', 'sputnikv', 'covid', 'india', 'v', 'sputnik', 'russia', ['moderna', 'production', 'o…'] 'russian', 'start', 'available', 'country', 'dr', 'contact', 'sale', 'group', 'age', 'coronavirus',\n",
      "Topic #1:\n",
      "'vaccine', '’', 'covid', 'moderna', 'pfizer', 's', 'covaxin', 'study', 'efficacy', 'effective', 'trial', 'say', 'data', 'new', 't', 'phase', 'show', 'variant', 'mrna', 'm',\n",
      "Topic #2:\n",
      "'vaccine', 'dose', 'first', 'sinopharm', 'covid', 'day', 'man', 'moderna', 'dos', 'vaccinated', 'the', 'received', 'today', 'health', 'good', 'receiving', 'second', 'died', ['an', 'yearold',\n",
      "Topic #3:\n",
      "'vaccine', 'covaxin', 'covid', 'approval', 'dos', 'sinovac', 'sinopharm', 'china', 'india', 'million', 'who', 'use', ['the', 'covishield', 'approved', 'chinese', 'biotech', 'emergency', 'get', '…']\n",
      "Topic #4:\n",
      "'vaccine', 'i', 'moderna', 'get', 'covid', 'got', ['i', 'dose', 'vaccinated', 'people', 'covaxin', 'one', 'first', 'shot', 'today', 'take', 'second', 'getting', 'nd', 'like',\n",
      "\n"
     ]
    }
   ],
   "source": [
    "#data_positive\n",
    "lda_model_positive = runLDA(data_positive['lemma'], 5)"
   ]
  },
  {
   "cell_type": "code",
   "execution_count": 54,
   "id": "adapted-september",
   "metadata": {},
   "outputs": [
    {
     "name": "stdout",
     "output_type": "stream",
     "text": [
      "\n",
      "Topics in LDA model:\n",
      "Topic #0:\n",
      "'dose', 'covaxin', 'hospital', 'nd', 'first', 'second', ['finally', 'st', 'got', 'today', 'motherhood', 'please', 'school', 'sir', 'united', 'state', 'system', ['good', 'done', 'covaxin']\n",
      "Topic #1:\n",
      "'russia', 'open', 'business', 'usual', 'everything', 'ontario', 'reporting', 'case', 'canada', 'of…'] 'moscow', ['moscow', ['embarrassing', 'covid', '…'] 'covid…'] 'new', 'president', 'pfizerbiontech', 'sputnikv',\n",
      "Topic #2:\n",
      "'’', 'vaccinated', 'i', 'moderna', 's', 'fully', 'covaxin', ['i', 'world', 'moderna'] 'get', 't', 'got', 'good', 'it', 'expert', 'let', 'heal', 'today', 'pfizer',\n",
      "Topic #3:\n",
      "'age', 'date', 'slot', '₹', 'fee', ['pincode', 'dose', 'covaxin', 'all', 'miracle', ['fully', 'sep', 'aug', 'hea…'] 'jul', 'v', 'sputnik', 'oct', 'h…'] 'united',\n",
      "Topic #4:\n",
      "'vaccine', 'covid', 'covaxin', 'moderna', 'effective', 'vaccination', ['the', 'india', 'sputnikv', 'dos', 'u', 'sinopharm', 'pfizer', 'covishield', 'sinovac', 'health', 'the', ['covaxin', 'trial', 'say',\n",
      "\n"
     ]
    }
   ],
   "source": [
    "#data_trust\n",
    "lda_model_trust = runLDA(data_trust['lemma'], 5)"
   ]
  },
  {
   "cell_type": "code",
   "execution_count": null,
   "id": "younger-semester",
   "metadata": {},
   "outputs": [],
   "source": [
    "#data_fear\n",
    "lda_model_fear = runLDA(data_fear['lemma'], 5)"
   ]
  },
  {
   "cell_type": "code",
   "execution_count": null,
   "id": "refined-atmosphere",
   "metadata": {},
   "outputs": [],
   "source": [
    "#data_negative\n",
    "lda_model_negative = runLDA(data_negative['lemma'], 5)"
   ]
  },
  {
   "cell_type": "code",
   "execution_count": null,
   "id": "powerful-kingdom",
   "metadata": {},
   "outputs": [],
   "source": [
    "#data_anger\n",
    "lda_model_anger = runLDA(data_anger['lemma'], 5)"
   ]
  },
  {
   "cell_type": "code",
   "execution_count": null,
   "id": "residential-wholesale",
   "metadata": {},
   "outputs": [],
   "source": [
    "#data_anticipation\n",
    "lda_model_anticipation = runLDA(data_anticipation['lemma'], 5)"
   ]
  },
  {
   "cell_type": "code",
   "execution_count": null,
   "id": "arbitrary-studio",
   "metadata": {},
   "outputs": [],
   "source": [
    "#data_joy\n",
    "lda_model_joy = runLDA(data_joy['lemma'], 5)"
   ]
  },
  {
   "cell_type": "code",
   "execution_count": null,
   "id": "indoor-thumbnail",
   "metadata": {},
   "outputs": [],
   "source": []
  },
  {
   "cell_type": "code",
   "execution_count": 34,
   "id": "documentary-luxury",
   "metadata": {},
   "outputs": [
    {
     "name": "stdout",
     "output_type": "stream",
     "text": [
      "\n",
      "Topics in LDA model:\n",
      "Topic #0:\n",
      "'moderna', 'pfizer', 'vaccines', 'covid', 'vaccine', 'risk', 'pfizerbiontech', 'mrna', 'astrazeneca', 'shots', 'fda', 'infection', 'shot', ['nd', ['covid', 'get', 'the', 'you', 'us', 'go',\n",
      "Topic #1:\n",
      "'hospital', 'dose', 'age', 'slots', 'covaxin', 'date', '₹', 'fees', ['pincode', 'jul', 'aug', 'city', 'world', 'sakra', 'e', 'kauvery', 'wes…'] 'a…'] 'sep', '…']\n",
      "Topic #2:\n",
      "'pandemic', ['the', 'covid', 'take', 'still', 'so', 'this', 'time', 'vaccine', 'world', 'covaxin'] 'bad', 'pm', 'vaccinated', 'first', 'the…'] 'we', 'also', 'took', 'day',\n",
      "Topic #3:\n",
      "'’', 's', '…'] 'it', 't', 'next', 'week', 'shot', 'vaccine', 'we', 'booster', 'moderna', ['moderna', 'fda', 'news', 'says', 'day', 'covid', 'a…'] ['my',\n",
      "Topic #4:\n",
      "'covaxin', 'dose', 'slots', 'age', 'date', '₹', 'fees', ['pincode', 'hospital', 'medical', 'aug', 'west', 'suguna', 'c', 'sep', 'jul', 'bb…'] 'bg', 'rainbow', 'aster',\n",
      "Topic #5:\n",
      "'sputnikv', 'know', 't…'] 'not', 's…'] 'government', 'people', 'day', 'you', 'vaccine', 'we', 'to', 'the', 'need', 'get', 'made', 'us', 'vaccines', 'covidvaccine', 'approved',\n",
      "Topic #6:\n",
      "'government', 'the', 'doses', 'vaccine', 'sinopharm', 'covid', ['the', 'vaccines', 'covid…'] 'million', ['a', 'the…'] 'chinese', 'death', 'sinovac', 'said', 'first', 'china', 'pfizerbiontech', 'for',\n",
      "Topic #7:\n",
      "'shot', 'moderna'] 'one', 'done', 'moderna', 'covidvaccine', ['second', ['first', 'two', 'watch', 'in', 'go', 'thank', 'to', 'we', 'weeks', 'vaccine', 'pfizerbiontech', 'nd', 'dose',\n",
      "Topic #8:\n",
      "'i', ['i', '’', 'moderna', 'getting', 'shot', 'm', 'got', 'feel', 'like', 'get', 'second', 't', 'vaccine', 'nd', 'dose', 'first', 'flu', 'yesterday', 'bad',\n",
      "Topic #9:\n",
      "'home', 'us', 'lockdown', 'canada', 'forced', 'family', 'stay', ['while', 'drug', 'business', 'ontario', 'toronto', 'a…'] 'school', 'to', 'go', 'fda', ['this', ['my', ['canada',\n",
      "Topic #10:\n",
      "'school', 'stop', 'business', 'ontario', 'vaccine', 'lockdown', 'ruined', ['canada', 'politicizing', 'toronto', 'stay', 'home', 's…'] 'canada', 'a…'] 'vaccines', 'covid', 'for', ['my', 'forced',\n",
      "Topic #11:\n",
      "'emergency', 'use', 'covaxin', 'listing', 'approval', 'gets', 'india', ['covaxin', 'news', 'authorisation', 'children', 'vaccine', ['who', 'approved', 'bharat', 'biotech', 'for', 'fda', 'covaxin'] ['this',\n",
      "Topic #12:\n",
      "'vaccine', 'sinovac', 'emergency', 'use', 'approved', 'covid', 'health', 'sputnik', 'v', 'approves', 'vaccines', 'china', 'sinopharm', 'india', 'who', ['the', 'chinese', 'listing', ['who', 'drug',\n",
      "Topic #13:\n",
      "'case', 'new', 'covid', 'vaccine', 'need', 'reporting', 'canada', 'toronto', 'politicizing', ['ontario', 'like', 'ford', 'trudeau', 'we', 'months', 'flu', 'last', 'shots', 'no', 'ontario',\n",
      "Topic #14:\n",
      "'ontario', 'toronto', 'doug', 'trudeau', 'ford', 'alone', 'eating', 'forced', 'canada', 'stay', 'today', ['who', 'home…'] 'who', ['canada', 'day', 'lockdown', ['first', 'home', 's…']\n",
      "Topic #15:\n",
      "'moderna', 'dose', 'side', 'fever', 'shot', 'effects', 'arm', 'injection', 'second', 'day', 'first', 'pain', 'vaccine', 'nd', 'feeling', 'hours', 'body', 'site', 'yesterday', 'last',\n",
      "Topic #16:\n",
      "'shot', 'moderna', 'first', 'got', 'get', 'today', 'vaccinated', 'booster', 'second', ['got', 'vaccine', 'covid', 'nd', ['just', ['i', 'moderna'] 'st', 'i', '💉', 'covidvaccine',\n",
      "Topic #17:\n",
      "'covaxin', 'who', 'hospital', 'available', 'th', 'biotech', 'no', 'bharat', 'dose', 'took', 'says', 'pm', 'vaccinated', 'made', 'st', 'c…'] 'approval', ['covaxin', 'second', 'fight',\n",
      "Topic #18:\n",
      "'covid', 'vaccination', 'vaccine', 'india', ['moderna', 'coronavirus', 'fight', 'says', 'adverse', 'months', ['covid', '…'] 'vaccines', 'news', 'to', ['this', 'watch', 'covaxin'] 'the', 'infection',\n",
      "Topic #19:\n",
      "'people', 'days', 'covishield', 'covaxin', 'dose', 'may', 'since', 'said', 'nd', 'st', 'you', 'also', 'who', 'mrna', ['nd', 'covidvaccine', 'adverse', 'flu', 'weeks', 'medical',\n",
      "\n"
     ]
    }
   ],
   "source": []
  },
  {
   "cell_type": "markdown",
   "id": "sporting-landscape",
   "metadata": {},
   "source": [
    "## Hashtag Analysis & Heatmap"
   ]
  },
  {
   "cell_type": "code",
   "execution_count": null,
   "id": "established-japanese",
   "metadata": {},
   "outputs": [],
   "source": [
    "# take hashtags which appear at least this amount of times\n",
    "min_appearance = 1000\n",
    "\n",
    "# find popular hashtags - make into python set for efficiency\n",
    "popular_hashtags_set = set(popular_hashtags[\n",
    "                           popular_hashtags.counts>=min_appearance\n",
    "                           ]['hashtag'])"
   ]
  }
 ],
 "metadata": {
  "kernelspec": {
   "display_name": "Python 3",
   "language": "python",
   "name": "python3"
  },
  "language_info": {
   "codemirror_mode": {
    "name": "ipython",
    "version": 3
   },
   "file_extension": ".py",
   "mimetype": "text/x-python",
   "name": "python",
   "nbconvert_exporter": "python",
   "pygments_lexer": "ipython3",
   "version": "3.9.7"
  }
 },
 "nbformat": 4,
 "nbformat_minor": 5
}
